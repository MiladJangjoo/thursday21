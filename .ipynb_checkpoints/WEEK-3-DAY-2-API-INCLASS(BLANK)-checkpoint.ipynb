{
 "cells": [
  {
   "cell_type": "markdown",
   "metadata": {
    "id": "ObV5_k3qTHI9"
   },
   "source": [
    "# APIs\n"
   ]
  },
  {
   "cell_type": "markdown",
   "metadata": {
    "id": "NaFupEOiTHJC"
   },
   "source": [
    "## Tasks Today:\n",
    "1) <b>Requests and the pokemon API </b> <br>\n"
   ]
  },
  {
   "cell_type": "markdown",
   "metadata": {
    "id": "Zxpke9pSTHJD"
   },
   "source": [
    "# working with APis"
   ]
  },
  {
   "cell_type": "markdown",
   "metadata": {
    "id": "lyjXgpcCTHJD"
   },
   "source": [
    "<p> What exactly is an API? <br> <br>\n",
    "API is the acronym for Application Programming Interface, which is a software intermediary that allows two applications to talk to each other. Each time you use an app like Facebook, send an instant message, or check the weather on your phone, you're using an API. </p>"
   ]
  },
  {
   "cell_type": "markdown",
   "metadata": {
    "id": "1SVoog_rTHJE"
   },
   "source": [
    "### The Poke API  allows you to retreive a pokemon's information from PokeAPI https://pokeapi.co/\n",
    "\n"
   ]
  },
  {
   "cell_type": "code",
   "execution_count": 6,
   "metadata": {
    "id": "xVeZOfd9THJF"
   },
   "outputs": [
    {
     "name": "stdout",
     "output_type": "stream",
     "text": [
      "200\n",
      "{'Date': 'Fri, 08 Sep 2023 05:54:20 GMT', 'Content-Type': 'application/json; charset=utf-8', 'Content-Length': '7330', 'Connection': 'keep-alive', 'access-control-allow-origin': '*', 'Cache-Control': 'public, max-age=86400, s-maxage=86400', 'Content-Encoding': 'gzip', 'etag': 'W/\"45a0c-zFURrVWLXw+PI4jJ2I7lJqs7swE\"', 'function-execution-id': 'ytky5zc17ykz', 'strict-transport-security': 'max-age=31556926', 'x-cloud-trace-context': '8345846512b57919a7f74e35a118daa6', 'x-country-code': 'ZA', 'x-powered-by': 'Express', 'x-served-by': 'cache-jnb7021-JNB', 'x-cache': 'HIT', 'x-cache-hits': '1', 'x-timer': 'S1694067325.039978,VS0,VE1', 'vary': 'Accept-Encoding,cookie,need-authorization, x-fh-requested-host, accept-encoding', 'alt-svc': 'h3=\":443\"; ma=86400', 'CF-Cache-Status': 'HIT', 'Age': '85135', 'Accept-Ranges': 'bytes', 'Report-To': '{\"endpoints\":[{\"url\":\"https:\\\\/\\\\/a.nel.cloudflare.com\\\\/report\\\\/v3?s=fyLQ3krz9VkzAzOlnu2mBgimdPT97C3fix8NiGE%2BQT5w5N%2Fq%2FRJHs0roQ577nxFSzvADLS2g50X4pCo%2FqW4ygdRTpNQLk8By5upySOiTgWVXtAFb5BGx4iZ9NG5nmRM5ElzhY7pmLnYZ\"}],\"group\":\"cf-nel\",\"max_age\":604800}', 'NEL': '{\"success_fraction\":0,\"report_to\":\"cf-nel\",\"max_age\":604800}', 'Server': 'cloudflare', 'CF-RAY': '8034efacd9724779-DFW'}\n"
     ]
    }
   ],
   "source": [
    "# making an API call\n",
    "from requests import get\n",
    "response = get('https://pokeapi.co/api/v2/pokemon/psyduck/')\n",
    "\n",
    "print(response.status_code)\n",
    "\n",
    "print(response.headers)\n",
    "\n",
    "if response.ok:\n",
    "    data = response.json()\n",
    "else:\n",
    "    print('bad request')\n",
    "\n"
   ]
  },
  {
   "cell_type": "markdown",
   "metadata": {
    "id": "1RvTFEkyTHJH"
   },
   "source": [
    "### Display a Pokemon's name, weight, abilities, and types"
   ]
  },
  {
   "cell_type": "code",
   "execution_count": 17,
   "metadata": {
    "id": "sIWc1CZnTHJI"
   },
   "outputs": [
    {
     "data": {
      "text/plain": [
       "'psyduck'"
      ]
     },
     "execution_count": 17,
     "metadata": {},
     "output_type": "execute_result"
    }
   ],
   "source": [
    "# get the name\n",
    "data['name']"
   ]
  },
  {
   "cell_type": "code",
   "execution_count": 18,
   "metadata": {
    "id": "F3pb50AmTHJJ"
   },
   "outputs": [
    {
     "data": {
      "text/plain": [
       "[{'slot': 1,\n",
       "  'type': {'name': 'water', 'url': 'https://pokeapi.co/api/v2/type/11/'}}]"
      ]
     },
     "execution_count": 18,
     "metadata": {},
     "output_type": "execute_result"
    }
   ],
   "source": [
    "# get types\n",
    "data['types']"
   ]
  },
  {
   "cell_type": "code",
   "execution_count": 20,
   "metadata": {
    "id": "0XQaKHiwTHJK"
   },
   "outputs": [
    {
     "data": {
      "text/plain": [
       "196"
      ]
     },
     "execution_count": 20,
     "metadata": {},
     "output_type": "execute_result"
    }
   ],
   "source": [
    "# get weight\n",
    "data['weight']"
   ]
  },
  {
   "cell_type": "code",
   "execution_count": 19,
   "metadata": {
    "id": "CPQTa8sDTHJK"
   },
   "outputs": [
    {
     "data": {
      "text/plain": [
       "[{'ability': {'name': 'damp', 'url': 'https://pokeapi.co/api/v2/ability/6/'},\n",
       "  'is_hidden': False,\n",
       "  'slot': 1},\n",
       " {'ability': {'name': 'cloud-nine',\n",
       "   'url': 'https://pokeapi.co/api/v2/ability/13/'},\n",
       "  'is_hidden': False,\n",
       "  'slot': 2},\n",
       " {'ability': {'name': 'swift-swim',\n",
       "   'url': 'https://pokeapi.co/api/v2/ability/33/'},\n",
       "  'is_hidden': True,\n",
       "  'slot': 3}]"
      ]
     },
     "execution_count": 19,
     "metadata": {},
     "output_type": "execute_result"
    }
   ],
   "source": [
    "# get abilidataties\n",
    "data['abilities']"
   ]
  },
  {
   "cell_type": "code",
   "execution_count": null,
   "metadata": {
    "id": "Of-4VUk9THJK"
   },
   "outputs": [],
   "source": [
    "# Create a structure for a single pokemon\n"
   ]
  },
  {
   "cell_type": "code",
   "execution_count": 22,
   "metadata": {
    "id": "mnDNyaEDTHJL"
   },
   "outputs": [
    {
     "data": {
      "text/plain": [
       "{'name': 'psyduck',\n",
       " 'types': [{'slot': 1,\n",
       "   'type': {'name': 'water', 'url': 'https://pokeapi.co/api/v2/type/11/'}}],\n",
       " 'weight': 196,\n",
       " 'abilities': [{'ability': {'name': 'damp',\n",
       "    'url': 'https://pokeapi.co/api/v2/ability/6/'},\n",
       "   'is_hidden': False,\n",
       "   'slot': 1},\n",
       "  {'ability': {'name': 'cloud-nine',\n",
       "    'url': 'https://pokeapi.co/api/v2/ability/13/'},\n",
       "   'is_hidden': False,\n",
       "   'slot': 2},\n",
       "  {'ability': {'name': 'swift-swim',\n",
       "    'url': 'https://pokeapi.co/api/v2/ability/33/'},\n",
       "   'is_hidden': True,\n",
       "   'slot': 3}]}"
      ]
     },
     "execution_count": 22,
     "metadata": {},
     "output_type": "execute_result"
    }
   ],
   "source": [
    "milad = {\n",
    "    'name': data['name'],\n",
    "    'types': data['types'],\n",
    "    'weight':data['weight'],\n",
    "    'abilities':data['abilities']\n",
    "    \n",
    "}"
   ]
  },
  {
   "cell_type": "markdown",
   "metadata": {
    "id": "TvSJuYsaTHJL"
   },
   "source": [
    "#### Create a function to Pull in your own Pokemon's data"
   ]
  },
  {
   "cell_type": "code",
   "execution_count": 32,
   "metadata": {
    "id": "9ATOS0vNTHJL"
   },
   "outputs": [
    {
     "data": {
      "text/plain": [
       "{'name': 'pikachu',\n",
       " 'types': [{'slot': 1,\n",
       "   'type': {'name': 'electric', 'url': 'https://pokeapi.co/api/v2/type/13/'}}],\n",
       " 'weight': 60,\n",
       " 'abilities': [{'ability': {'name': 'static',\n",
       "    'url': 'https://pokeapi.co/api/v2/ability/9/'},\n",
       "   'is_hidden': False,\n",
       "   'slot': 1},\n",
       "  {'ability': {'name': 'lightning-rod',\n",
       "    'url': 'https://pokeapi.co/api/v2/ability/31/'},\n",
       "   'is_hidden': True,\n",
       "   'slot': 3}]}"
      ]
     },
     "execution_count": 32,
     "metadata": {},
     "output_type": "execute_result"
    }
   ],
   "source": [
    "def poke_api_call(pokemon):\n",
    "\n",
    "    res =  get(f'https://pokeapi.co/api/v2/pokemon/{pokemon}')\n",
    "    if res.ok:\n",
    "        data = res.json()\n",
    "        pokemon_dict = {\n",
    "             'name':data['name'],\n",
    "             'types':data['types'],\n",
    "             'weight':data['weight'],\n",
    "             'abilities':data['abilities']\n",
    "            }\n",
    "    else:\n",
    "        print(f'Incvalis Request, status code {res.status_code} please enter valid pokemon')\n",
    "    return pokemon_dict\n",
    "\n",
    "poke_api_call('pikachu')"
   ]
  },
  {
   "cell_type": "markdown",
   "metadata": {
    "id": "xrTKBkEATHJM"
   },
   "source": [
    "Choose your pokemon"
   ]
  },
  {
   "cell_type": "code",
   "execution_count": 34,
   "metadata": {
    "id": "oSWewZoQTHJM"
   },
   "outputs": [],
   "source": [
    "from random import randint\n",
    "# Random number generated for each pokemon id\n",
    "random_team = [randint(1,898) for i in range(6)]\n",
    "\n",
    "your_team = ['electabuzz', 'haunter','tyranitar','blaziken','marowak','dragonair']\n"
   ]
  },
  {
   "cell_type": "markdown",
   "metadata": {
    "id": "FFBaMJkeTHJN"
   },
   "source": [
    "#### Use your function to create a dictionary of your Johto League 6  (favorite 6 pokemon)"
   ]
  },
  {
   "cell_type": "code",
   "execution_count": 37,
   "metadata": {
    "id": "NMe_MMX-THJN"
   },
   "outputs": [
    {
     "name": "stdout",
     "output_type": "stream",
     "text": [
      "[846, 144, 479, 455, 137, 519]\n"
     ]
    }
   ],
   "source": [
    "# Place all 6 of your pokemon on the object below, each pokemon should have at least as much info as Pikachu did.\n",
    "print(random_team)\n",
    "\n",
    "\n",
    "my_six_pokemon = {}\n"
   ]
  },
  {
   "cell_type": "markdown",
   "metadata": {
    "id": "MuE_EtH2THJN"
   },
   "source": [
    "## Lets create a class called 'Pokemon' and create our pokemon as instances"
   ]
  },
  {
   "cell_type": "code",
   "execution_count": null,
   "metadata": {
    "id": "LrKcprj5THJO"
   },
   "outputs": [],
   "source": [
    "class Pokemon():\n",
    "    pass"
   ]
  },
  {
   "cell_type": "markdown",
   "metadata": {
    "id": "ueW2wZ5aTHJO"
   },
   "source": [
    "### Let's Catch some Pokemon"
   ]
  },
  {
   "cell_type": "code",
   "execution_count": null,
   "metadata": {
    "id": "HsiyhKozTHJO"
   },
   "outputs": [],
   "source": [
    "pokedex = {}\n",
    "\n",
    "class Pokedex:\n",
    "    \n",
    "    def __init__(self, username):\n",
    "        self.username = username\n",
    "        self.collection = {}\n",
    "        \n",
    "    def __repr__(self):\n",
    "        return f'<Pokedex: {self.username}>'\n",
    "        \n",
    "    def add_pokemon(self):\n",
    "        pokemon = input(\"What Pokemon are you catching?: \")\n",
    "        self.collection[pokemon] = Pokemon(pokemon)\n",
    "        \n",
    "    def build_team(self):\n",
    "      :\n",
    "            \n",
    "    pass\n",
    "        \n",
    "pokedex = Pokedex('dsmith')\n",
    "\n",
    "pokedex.add_pokemon()\n",
    "\n",
    "pokedex.collection"
   ]
  },
  {
   "cell_type": "code",
   "execution_count": null,
   "metadata": {
    "id": "k_FCXOgRTHJP"
   },
   "outputs": [],
   "source": [
    "pokedex = {}\n"
   ]
  },
  {
   "cell_type": "markdown",
   "metadata": {
    "id": "7h6wh0bbTHJP"
   },
   "source": [
    "## Exercise 1:"
   ]
  },
  {
   "cell_type": "markdown",
   "metadata": {
    "id": "LPCtMl4UTHJP"
   },
   "source": [
    "### Create a Method prints an image of your pokemon\n",
    "\n",
    "<p>HINT: You may need another attribute as well to store your image url within. </p>"
   ]
  },
  {
   "cell_type": "code",
   "execution_count": 2,
   "metadata": {
    "id": "35bv82OrTHJP"
   },
   "outputs": [],
   "source": [
    "# Display an image in Jupyter notebook\n",
    "from IPython.display import Image\n",
    "\n",
    "# display(Image( 'https://i.redd.it/45n4mhusa8l41.jpg', width = 300))\n"
   ]
  },
  {
   "cell_type": "code",
   "execution_count": 7,
   "metadata": {
    "id": "Fnebk3CcTHJP"
   },
   "outputs": [],
   "source": [
    "class Pokemon():\n",
    "    def __init__(self, pokemon):\n",
    "        self.name = pokemon\n",
    "        self.sprite = None\n",
    "        self.poke_api_call()\n",
    "    \n",
    "    def __repr__(self):\n",
    "        return f'<Pokemon: {self.name}>'\n",
    "    \n",
    "    def poke_api_call(self):\n",
    "        res = get(f'https://pokeapi.co/api/v2/pokemon/{self.name}')\n",
    "        if res.ok:\n",
    "            data = res.json()\n",
    "            self.name = data['name']\n",
    "            self.sprite = self.get_sprite(data)\n",
    "        else:\n",
    "                print(f'Invalid Request, status code {res.status_code}, Please enter valid pokemon')\n",
    "    \n",
    "    def get_sprite(self, data):\n",
    "        animated = data['sprites']['versions']['generation-v']['black-white']['animated']['front_default']\n",
    "        return animated if animated else data['sprites']['front_default']\n",
    "    \n",
    "    def display_img(self):\n",
    "        display(Image(self.sprite, width = 75))\n",
    "        \n",
    "        \n",
    "        \n",
    "    def evolve(self):\n",
    "        \n",
    "        \n",
    "    "
   ]
  },
  {
   "cell_type": "code",
   "execution_count": 9,
   "metadata": {
    "id": "XKlhbmVJTHJP"
   },
   "outputs": [
    {
     "data": {
      "image/gif": "[encoded data removed]",
      "text/plain": [
       "<IPython.core.display.Image object>"
      ]
     },
     "metadata": {
      "image/gif": {
       "width": 75
      }
     },
     "output_type": "display_data"
    }
   ],
   "source": [
    "psyduck = Pokemon('pikachu')\n",
    "psyduck.display_img()"
   ]
  },
  {
   "cell_type": "code",
   "execution_count": null,
   "metadata": {
    "id": "sE4r1L80THJQ"
   },
   "outputs": [],
   "source": [
    "# Calling our new method\n"
   ]
  },
  {
   "cell_type": "markdown",
   "metadata": {
    "id": "nhwQOo-zTHJQ"
   },
   "source": [
    "## Exercise 2:"
   ]
  },
  {
   "cell_type": "markdown",
   "metadata": {
    "id": "uYdACSqkTHJQ"
   },
   "source": [
    "### Create a Method that evolves your Pokemon\n",
    "If your pokemon can't evolve any further print a message that says \"\\<name of pokemon> can't evolve.\""
   ]
  },
  {
   "cell_type": "code",
   "execution_count": null,
   "metadata": {
    "id": "-TYNHut6THJQ"
   },
   "outputs": [],
   "source": []
  },
  {
   "cell_type": "markdown",
   "metadata": {
    "id": "H7gfqk1iTHJQ"
   },
   "source": [
    "Now let's evolve a few"
   ]
  },
  {
   "cell_type": "code",
   "execution_count": null,
   "metadata": {
    "id": "FSc3PQHaTHJR",
    "scrolled": true
   },
   "outputs": [],
   "source": []
  },
  {
   "cell_type": "code",
   "execution_count": null,
   "metadata": {
    "id": "N_0kRhnWTHJR"
   },
   "outputs": [],
   "source": []
  },
  {
   "cell_type": "code",
   "execution_count": null,
   "metadata": {
    "id": "3ornmWvGTHJR"
   },
   "outputs": [],
   "source": []
  },
  {
   "cell_type": "markdown",
   "metadata": {
    "id": "9cXZJczTTHJR"
   },
   "source": [
    "#  Final Exercise: <br> <br>Create a Move_Tutor Class that will allow the Pokemon Class to inherit a move list.\n",
    "<br>\n",
    "<p>for an added bonus you can make sure that if a pokemon has 4 moves the user can choose one of them to replace with a new move. </p>"
   ]
  },
  {
   "cell_type": "code",
   "execution_count": null,
   "metadata": {
    "id": "2qGBinuFTHJR"
   },
   "outputs": [],
   "source": [
    "class Move_Tutor:\n",
    "    def __init__(self):\n",
    "        self.move_list = []\n",
    "        self.sprite = None\n",
    "        self.poke_api_call()"
   ]
  },
  {
   "cell_type": "code",
   "execution_count": null,
   "metadata": {
    "id": "oZaDdo86THJX"
   },
   "outputs": [],
   "source": []
  },
  {
   "cell_type": "code",
   "execution_count": null,
   "metadata": {
    "id": "GpNOEBceTHJY",
    "outputId": "50902ee4-470b-4475-8ef0-092c135267ed"
   },
   "outputs": [
    {
     "name": "stdout",
     "output_type": "stream",
     "text": [
      "What move would you like to teach pikachu? spark\n",
      "pikachu learned spark!\n"
     ]
    }
   ],
   "source": [
    "pikachu.teach_move(self, data):\n",
    "        animated = data['sprites']['versions']['generation-v']['black-white']['animated']['front_default']\n",
    "        return animated if animated else data['sprites']['front_default']"
   ]
  },
  {
   "cell_type": "code",
   "execution_count": null,
   "metadata": {
    "id": "6iuqfc9YTHJZ",
    "outputId": "42844331-6f52-4d16-ac4e-6576470777ab"
   },
   "outputs": [
    {
     "name": "stdout",
     "output_type": "stream",
     "text": [
      "pikachu's moves'\n",
      "thunder\n",
      "surf\n",
      "earthquake\n"
     ]
    }
   ],
   "source": [
    "pikachu.show_moves()"
   ]
  }
 ],
 "metadata": {
  "colab": {
   "provenance": []
  },
  "kernelspec": {
   "display_name": "Python 3",
   "language": "python",
   "name": "python3"
  },
  "language_info": {
   "codemirror_mode": {
    "name": "ipython",
    "version": 3
   },
   "file_extension": ".py",
   "mimetype": "text/x-python",
   "name": "python",
   "nbconvert_exporter": "python",
   "pygments_lexer": "ipython3",
   "version": "3.7.10"
  }
 },
 "nbformat": 4,
 "nbformat_minor": 1
}
